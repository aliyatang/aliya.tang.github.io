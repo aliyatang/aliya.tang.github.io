{
 "cells": [
  {
   "attachments": {},
   "cell_type": "markdown",
   "metadata": {},
   "source": [
    "---\n",
    "toc: true\n",
    "comments: true\n",
    "layout: post\n",
    "title: Unit 6 Arrays\n",
    "description:  Lesson on the College Board Unit 6 Arrays\n",
    "courses: { csa: {week: 1} }\n",
    "type: hacks\n",
    "categories: [AP Test Prep, Java]\n",
    "---\n"
   ]
  },
  {
   "attachments": {},
   "cell_type": "markdown",
   "metadata": {},
   "source": [
    "## Intro into Arrays\n",
    "\n",
    "- An **array** is a data structure used to implement a collection (list) of primitive or object reference data.\n",
    "\n",
    "- An **element** is a single value in the **array**\n",
    "\n",
    "- The __**index**__ of an **element** is the position of the element in the **array**\n",
    "\n",
    "    - In java, the **first element** of an array is at **index 0**. Start at **INDEX 0** on **AP EXAM**.\n",
    "    \n",
    "- The **length** of an **array** is the number of elements in the array.\n",
    "\n",
    "    - **`length`** is a `public final` data member of an array\n",
    "\n",
    "        - Since `length` is `public`, we can access it in **any class**!\n",
    "\n",
    "        - Since `length` is `final` we cannot change an array's `length` after it has been created\n",
    "    - In Java, the **last element** of an array named `list` is at **index** `list.length -1`"
   ]
  },
  {
   "attachments": {},
   "cell_type": "markdown",
   "metadata": {},
   "source": [
    "## A look into list Memory\n",
    "`int [] listOne = new int[5];`\n",
    "\n",
    "This will allocate a space in memory for 5 integers. Creating 5 spaces of memory to store memory in, specifically tell system to create these spaces. \n",
    "- Need to use the new keyword to specify arrays or else it will put random integer numbers in the array\n",
    "\n",
    "```\n",
    "ARRAY: [0, 0, 0, 0, 0]\n",
    "INDEX:  0  1  2  3  4\n",
    "```\n",
    "\n",
    "Using the keyword new uses the default values for the data type. The default values are as follows:\n",
    "\n",
    "| Data Type | Default Value |\n",
    "| --------- | ------------- |\n",
    "| byte      | (byte) 0      |\n",
    "| short     | (short) 0     |\n",
    "| int       | 0             |\n",
    "| double    | 0.0           |\n",
    "| boolean   | false         |\n",
    "| char      | '\\u0000'      |\n",
    "\n",
    "What do we do if we want to insert a value into the array?\n",
    "\n",
    "`listOne[0] = 5;`\n",
    "\n",
    "Gives us the following array:\n",
    "\n",
    "```\n",
    "ARRAY: [0, 0, 0, 0, 0]\n",
    "INDEX:  0  1  2  3  4\n",
    "```\n",
    "\n",
    "What if we want to initialize our own values? We can use an initializer list!\n",
    "\n",
    "`int [] listTwo = {1, 2, 3, 4, 5};`\n",
    "\n",
    "Gives us the following array:\n",
    "\n",
    "```\n",
    "ARRAY: [1, 2, 3, 4, 5]\n",
    "INDEX:  0  1  2  3  4\n",
    "```\n",
    "\n",
    "If we try to access an index outside of the range of existing indexes, we will get an error. But why? Remember the basis of all programming languages is memory. Because we are trying to access a location in memory that does not exist, java will throw an error (`ArrayIndexOutOfBoundsException`).\n",
    "- Because we are trying to reference some space that doesn't exist since it's not allocated\n",
    "\n",
    "How do we print the array? Directly printing the array will not work, it just prints the value of the array in memory. We need to iterate through the array and print each value individually!\n",
    "- You have to reference a specific spot in the array, for example System.out.println(listOne[4]);"
   ]
  },
  {
   "cell_type": "code",
   "execution_count": 1,
   "metadata": {},
   "outputs": [
    {
     "name": "stdout",
     "output_type": "stream",
     "text": [
      "Error at listOne[5] = 13\n",
      "ArrayIndexOutOfBoundsException: We can't access a memory index that doesn't exist!\n",
      "[I@6df87a1c\n",
      "0\n"
     ]
    }
   ],
   "source": [
    "/* lets take a look at the above */\n",
    "\n",
    "int [] listOne = new int[5]; // Our list looks like [0, 0, 0, 0, 0]\n",
    "\n",
    "listOne[2] = 33; // Our list looks like [0, 0, 33, 0, 0]\n",
    "listOne[3] = listOne[2] * 3; // Our list looks like [0, 0, 33, 99, 0]\n",
    "\n",
    "try {\n",
    "    listOne[5] = 13; // This will return an error\n",
    "} catch (Exception e) {\n",
    "    System.out.println(\"Error at listOne[5] = 13\");\n",
    "    System.out.println(\"ArrayIndexOutOfBoundsException: We can't access a memory index that doesn't exist!\");\n",
    "}\n",
    "\n",
    "\n",
    "System.out.println(listOne); // THIS DOES NOT PRINT THE LIST!! It prints the value in memory\n",
    "System.out.println(listOne[4]); // This will actually print the vaules in the array"
   ]
  },
  {
   "cell_type": "markdown",
   "metadata": {},
   "source": [
    "## Popcorn Hacks!\n",
    "\n",
    "Write code to print out every element of listOne the following"
   ]
  },
  {
   "cell_type": "code",
   "execution_count": 6,
   "metadata": {},
   "outputs": [
    {
     "name": "stdout",
     "output_type": "stream",
     "text": [
      "0\n",
      "0\n",
      "33\n",
      "99\n",
      "0\n"
     ]
    }
   ],
   "source": [
    "for (int i = 0; i < listOne.length; i++){ \n",
    "    System.out.println(listOne[i]);\n",
    "}"
   ]
  },
  {
   "cell_type": "code",
   "execution_count": 7,
   "metadata": {},
   "outputs": [
    {
     "name": "stdout",
     "output_type": "stream",
     "text": [
      "0\n",
      "0\n",
      "33\n",
      "99\n",
      "0\n"
     ]
    }
   ],
   "source": [
    "for (int i: listOne) {\n",
    "    System.out.println(i);\n",
    "}"
   ]
  },
  {
   "attachments": {},
   "cell_type": "markdown",
   "metadata": {},
   "source": [
    "## Reference elements\n",
    "\n",
    "Lists can be made up of elements other than the default data types! We can make lists of objects, or even lists of lists! Lets say I have a class `Student` and I want to make a list of all students in the class. I can do this by creating a list of `Student` objects.\n",
    "\n",
    "```\n",
    "Student [] classList;\n",
    "classList = new Student [3];\n",
    "```\n",
    "\n",
    "Keep in mind, however, that the list won't be generated with any students in it. They are initialized to `null` by default, and We need to create the students and then add them to the list ourselves.\n",
    "\n",
    "```\n",
    "classList[0] = new Student(\"Bob\", 12, 3.5);\n",
    "classList[1] = new Student(\"John\", 11, 4.0);\n",
    "classList[2] = new Student(\"Steve\", 10, 3.75);\n",
    "```"
   ]
  },
  {
   "cell_type": "markdown",
   "metadata": {},
   "source": [
    "## Popcorn hacks!\n",
    "\n",
    "Use a class that you have already created and create a list of objects of that class. Then, iterate through the list and print out each object using:\n",
    " 1) a for loop\n",
    " 2) a while loop"
   ]
  },
  {
   "cell_type": "code",
   "execution_count": 65,
   "metadata": {},
   "outputs": [
    {
     "name": "stdout",
     "output_type": "stream",
     "text": [
      "For Loop\n",
      "Apollo: 3 yrs, Orange color\n",
      "Porsha: 10 yrs, Brown color\n",
      "Biggie: 9 yrs, Grey color\n",
      "\n",
      "While Loop\n",
      "Apollo: 3 yrs, Orange color\n",
      "Porsha: 10 yrs, Brown color\n",
      "Biggie: 9 yrs, Grey color\n"
     ]
    }
   ],
   "source": [
    "public class Cat {\n",
    "    public String Name; \n",
    "    public int Age;\n",
    "    public String Color;\n",
    "\n",
    "    public Cat(String name, int age, String color) { \n",
    "        Name = name;\n",
    "        Age = age;\n",
    "        Color = color;\n",
    "    }\n",
    "\n",
    "    public String getName() { \n",
    "        return Name;\n",
    "    }\n",
    "\n",
    "    public int getAge() { \n",
    "        return Age;\n",
    "    }\n",
    "\n",
    "    public String getColor() {\n",
    "        return Color;\n",
    "    }\n",
    "\n",
    "    public static void main(String[] args) { \n",
    "        Cat [] catList;\n",
    "        catList = new Cat [3];\n",
    "        \n",
    "        catList[0] = new Cat(\"Apollo\", 3, \"Orange\");\n",
    "        catList[1] = new Cat(\"Porsha\", 10, \"Brown\");\n",
    "        catList[2] = new Cat(\"Biggie\", 9, \"Grey\");\n",
    "        \n",
    "        // for loop\n",
    "        System.out.println(\"For Loop\");\n",
    "        for (int i = 0; i < catList.length; i++) {\n",
    "            System.out.println(catList[i].getName() + \": \" + catList[i].getAge() + \" yrs, \" + catList[i].getColor() + \" color\");\n",
    "        }\n",
    "\n",
    "        // while loop\n",
    "        System.out.println(\"\\nWhile Loop\");\n",
    "        int j = 0;\n",
    "        while (j < catList.length){\n",
    "            System.out.println(catList[j].getName() + \": \" + catList[j].getAge() + \" yrs, \" + catList[j].getColor() + \" color\");\n",
    "            j++;\n",
    "        }\n",
    "    }\n",
    "}\n",
    "Cat.main(null)"
   ]
  },
  {
   "cell_type": "markdown",
   "metadata": {},
   "source": [
    "## Enhanced for loops\n",
    "\n",
    "The enhanced `for` loop is also called a for-each loop. Unlike a \"traditional\" indexed `for` loop with three parts separated by semicolons, there are only two parts to the enhanced `for` loop header and they are separated by a colon.\n",
    "\n",
    "The first half of an enhanced `for` loop signature is the type of name for the variable that is a copy of the value stored in the structure. Next a colon separates the variable section from the data structure being traversed with the loop.\n",
    "\n",
    "Inside the body of the loop you are able to access the value stored in the variable. A key point to remember is that you are unable to assign into the variable defined in the header (the signature)\n",
    "\n",
    "You also do not have access to the indices of the array or subscript notation when using the enhanced `for` loop.\n",
    "\n",
    "These loops have a structure similar to the one shown below:\n",
    "\n",
    "```js\n",
    "for (type declaration : structure )\n",
    "{\n",
    "    // statement one;\n",
    "    // statement two;\n",
    "    // ...\n",
    "}\n",
    "```\n",
    "\n",
    "## Popcorn Hacks!\n",
    "\n",
    "Create an array, then use a enhanced for loop to print out each element of the array."
   ]
  },
  {
   "cell_type": "code",
   "execution_count": 11,
   "metadata": {},
   "outputs": [
    {
     "name": "stdout",
     "output_type": "stream",
     "text": [
      "4\n",
      "3\n",
      "93\n",
      "94\n",
      "6\n"
     ]
    }
   ],
   "source": [
    "int[] arr = {4, 3, 93, 94, 6};\n",
    "for (int i: arr) {\n",
    "    System.out.println(i);\n",
    "}"
   ]
  },
  {
   "cell_type": "markdown",
   "metadata": {},
   "source": [
    "## Min maxing\n",
    "\n",
    "It is a common task to determine what the largest or smallest value stored is inside an array. in order to do this, we need a method that can ake a parameter of an array of primitive values (`int` or `double`) and return the item that is at the appropriate extreme.\n",
    "\n",
    "Inside the method of a local variable is needed to store the current max of min value that will be compared against all the values in the array. you can assign the current value to be either the opposite extreme or the first item you would be looking at.\n",
    "\n",
    "You can use either a standard `for` loop or an enhanced `for` loop to determine the max or min. Assign the temporary variable a starting value based on what extreme you are searching for.\n",
    "\n",
    "Inside the `for` loop, compare the current value against the local variable, if the current value is better, assign it to the temporary variable. When the loop is over, the local variable will contain the approximate value and is still available and within scope and can be returned from the method.\n",
    "\n",
    "## Popcorn Hacks!\n",
    "Create two lists: one of ints and one of doubles. Use both a standard for loop and an enhanced for loop to find the max and min of each list."
   ]
  },
  {
   "cell_type": "code",
   "execution_count": 8,
   "metadata": {},
   "outputs": [
    {
     "name": "stdout",
     "output_type": "stream",
     "text": [
      "Maximum: 38\n",
      "Minimum: -8\n"
     ]
    }
   ],
   "source": [
    "int[] intList = {9, 3, -8, 38, 21};\n",
    "int max = intList[0];\n",
    "for (int i = 1; i < intList.length; i++) {\n",
    "    if (intList[i] > max){\n",
    "        max = intList[i];\n",
    "    }\n",
    "}\n",
    "System.out.println(\"Maximum: \" + max);\n",
    "\n",
    "int min = intList[0];\n",
    "for (int j : intList) {\n",
    "    if (j < min){\n",
    "        min = j;\n",
    "    }\n",
    "}\n",
    "System.out.println(\"Minimum: \" + min);"
   ]
  },
  {
   "cell_type": "code",
   "execution_count": 7,
   "metadata": {},
   "outputs": [
    {
     "name": "stdout",
     "output_type": "stream",
     "text": [
      "Maximum: 9.9\n",
      "Minimum: 2.0\n"
     ]
    }
   ],
   "source": [
    "double[] dubList = {5.9, 2.0, 4.5, 9.1, 9.9, 8.4};\n",
    "double max=dubList[0];\n",
    "for (int i = 1; i < dubList.length; i++) { // note: int i because i is used for index of list, so it's int not double\n",
    "    if (dubList[i] > max){\n",
    "        max = dubList[i];\n",
    "    }\n",
    "}\n",
    "System.out.println(\"Maximum: \" + max);\n",
    "\n",
    "double min = dubList[0];\n",
    "for (double j: dubList){\n",
    "    if (j < min){\n",
    "        min = j;\n",
    "    }\n",
    "}\n",
    "System.out.println(\"Minimum: \" + min);"
   ]
  },
  {
   "attachments": {},
   "cell_type": "markdown",
   "metadata": {},
   "source": [
    "# Hacks\n",
    "Given an input of N integers, find A, the maximum, B, the minimum, and C the median.\n",
    "\n",
    "Print the following in this order: \n",
    "- A + B + C \n",
    "- A - B - C \n",
    "- (A + B) * C\n",
    "\n",
    "Sample data:"
   ]
  },
  {
   "attachments": {},
   "cell_type": "markdown",
   "metadata": {},
   "source": [
    "INPUT:\n",
    "<br>\n",
    "5\n",
    "<br>\n",
    "1 2 3 4 5\n",
    "\n",
    "\n",
    "OUTPUT:\n",
    "<br>\n",
    "9 1 18\n",
    "\n",
    "\n",
    "INPUT:\n",
    "<br>\n",
    "9\n",
    "<br>\n",
    "2 4 6 8 10 10 12 14 16\n",
    "\n",
    "\n",
    "OUTPUT:\n",
    "<br>\n",
    "28 6 180"
   ]
  },
  {
   "cell_type": "code",
   "execution_count": 42,
   "metadata": {},
   "outputs": [
    {
     "name": "stdout",
     "output_type": "stream",
     "text": [
      "Enter an integer (n) for amount of integers: \n",
      "8\n",
      "\n",
      "Enter your integers: \n",
      "4\n",
      "23\n",
      "10\n",
      "2\n",
      "34\n",
      "41\n",
      "89\n",
      "90\n",
      "\n",
      "Maximum: 90, Minimum: 2, Median: 28.5\n",
      "\n",
      "90228.5\n",
      "59.5\n",
      "2622.0\n"
     ]
    }
   ],
   "source": [
    "import java.util.Scanner;\n",
    "\n",
    "public class MaxMinMed {\n",
    "    public int findMax(int[] arr, int n) {\n",
    "        int max = arr[0];\n",
    "        for (int i = 1; i < n; i++) {\n",
    "            if (arr[i] > max){\n",
    "                max = arr[i];\n",
    "            }\n",
    "        }\n",
    "        return max;\n",
    "    }\n",
    "    \n",
    "    public int findMin(int[] arr, int n) {\n",
    "        int min = arr[0];\n",
    "        for (int i = 1; i < n; i++) {\n",
    "            if (arr[i] < min){\n",
    "                min = arr[i];\n",
    "            }\n",
    "        }\n",
    "        return min;\n",
    "    }\n",
    "\n",
    "    public double findMed(int[] arr, int n) {\n",
    "        // sort order\n",
    "        for (int i = 0; i < n - 1; i++) {\n",
    "            for (int j = 0; j < n - i - 1; j++) {\n",
    "                if (arr[j] > arr[j + 1]) {\n",
    "                    int temp = arr[j];\n",
    "                    arr[j] = arr[j + 1];\n",
    "                    arr[j + 1] = temp;\n",
    "                }\n",
    "            }\n",
    "        }\n",
    "        \n",
    "        if ((n % 2) != 0) {\n",
    "            // odd amt in list\n",
    "            return arr[n/2];\n",
    "        } else {\n",
    "            // even amt in list\n",
    "            int mid1 = arr[n/2 - 1];\n",
    "            int mid2 = arr[n/2];\n",
    "            return (double) (mid1 + mid2) / 2.0;\n",
    "        }\n",
    "    }\n",
    "}\n",
    "\n",
    "public void main(String[] args) {\n",
    "    // Scanner object for user input\n",
    "    Scanner scanner = new Scanner(System.in);\n",
    "\n",
    "    // user enter amt of integer\n",
    "    System.out.println(\"Enter an integer (n) for amount of integers: \");\n",
    "    int n = scanner.nextInt();\n",
    "    System.out.println(n+\"\\n\");\n",
    "        \n",
    "    // allocate memory\n",
    "    int [] arr = new int[n];\n",
    "\n",
    "    // user enter integers\n",
    "    System.out.println(\"Enter your integers: \");\n",
    "    for (int i = 0; i<n; i++){\n",
    "        int curr_entered = scanner.nextInt();\n",
    "        arr[i] = curr_entered;\n",
    "        System.out.println(curr_entered);\n",
    "    }\n",
    "\n",
    "    MaxMinMed obj = new MaxMinMed();\n",
    "    int A = obj.findMax(arr, n);\n",
    "    int B = obj.findMin(arr, n);\n",
    "    double C = obj.findMed(arr, n);\n",
    "\n",
    "    System.out.println(\"\\nMaximum: \" + A + \", Minimum: \" + B + \", Median: \" +C);\n",
    "    System.out.println(\"\\n\"+ A + B + C);\n",
    "    System.out.println(A - B - C);\n",
    "    System.out.println((A + B) * C);\n",
    "}\n",
    "\n",
    "main(null)"
   ]
  },
  {
   "attachments": {},
   "cell_type": "markdown",
   "metadata": {},
   "source": [
    "For extra, create your own fun program using an array\n",
    "- Find mean of user input (n) random integers 1-100"
   ]
  },
  {
   "cell_type": "code",
   "execution_count": 50,
   "metadata": {},
   "outputs": [
    {
     "name": "stdout",
     "output_type": "stream",
     "text": [
      "Enter an integer (n) for amount of integers: \n",
      "9\n",
      "\n",
      "Random numbers: \n",
      "24, 78, 88, 58, 22, 43, 94, 15, 14, \n",
      "\n",
      "Mean: 48.44444444444444\n"
     ]
    }
   ],
   "source": [
    "import java.util.Scanner;\n",
    "import java.util.Random;\n",
    "\n",
    "public class mean {\n",
    "    public static void main(String[] args){\n",
    "        Scanner scanner = new Scanner(System.in);\n",
    "        Random random = new Random();\n",
    "\n",
    "        // user enter amt of integer\n",
    "        System.out.println(\"Enter an integer (n) for amount of integers: \");\n",
    "        int n = scanner.nextInt();\n",
    "        System.out.println(n+\"\\n\");\n",
    "\n",
    "        int[] randNums = new int[n];\n",
    "\n",
    "        // genreate random nums\n",
    "        for (int i = 0; i < n; i++) {\n",
    "            randNums[i] = random.nextInt(101); // random nums from 1-100\n",
    "        }\n",
    "        System.out.println(\"Random numbers: \");\n",
    "        for (int num : randNums) {\n",
    "            System.out.print(num + \", \");\n",
    "        }\n",
    "\n",
    "        // find mean\n",
    "        double sum = 0;\n",
    "        for (int num: randNums){\n",
    "            sum += num;\n",
    "        }\n",
    "        double mean = sum/n;\n",
    "\n",
    "        System.out.println(\"\\n\\nMean: \"+ mean);\n",
    "    }\n",
    "}\n",
    "mean.main(null)"
   ]
  }
 ],
 "metadata": {
  "kernelspec": {
   "display_name": "Java",
   "language": "java",
   "name": "java"
  },
  "language_info": {
   "codemirror_mode": "java",
   "file_extension": ".jshell",
   "mimetype": "text/x-java-source",
   "name": "java",
   "pygments_lexer": "java",
   "version": "12.0.2+10"
  },
  "orig_nbformat": 4
 },
 "nbformat": 4,
 "nbformat_minor": 2
}
