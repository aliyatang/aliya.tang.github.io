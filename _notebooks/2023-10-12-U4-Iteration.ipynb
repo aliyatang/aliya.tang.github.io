{
 "cells": [
  {
   "attachments": {},
   "cell_type": "markdown",
   "metadata": {},
   "source": [
    "---\n",
    "comments: true\n",
    "layout: post\n",
    "title: Unit 4 Iteration\n",
    "description:  Lesson on the College Board Unit 4 Iteration\n",
    "courses: { csa: {week: 8} }\n",
    "type: hacks\n",
    "categories: [AP Test Prep, Java]\n",
    "---"
   ]
  },
  {
   "attachments": {},
   "cell_type": "markdown",
   "metadata": {},
   "source": [
    "# 4.2 - for Loops\n",
    "## for Loops\n",
    "- Iterative statement that checks for condition\n",
    "- Repeatedly execute a a block of code as long as the condition is met\n",
    "- Condition specifies amount of times"
   ]
  },
  {
   "cell_type": "markdown",
   "metadata": {},
   "source": []
  },
  {
   "attachments": {},
   "cell_type": "markdown",
   "metadata": {},
   "source": [
    "# for Loops vs. while Loops\n",
    "- while Loops: use when number of iterations is unknown\n",
    "- for Loops: use when number of iterations is known"
   ]
  },
  {
   "cell_type": "code",
   "execution_count": 8,
   "metadata": {},
   "outputs": [
    {
     "name": "stdout",
     "output_type": "stream",
     "text": [
      "1\n",
      "2\n",
      "3\n",
      "4\n",
      "5\n"
     ]
    }
   ],
   "source": [
    "int count = 1;\n",
    "while (count <= 5) {\n",
    "    System.out.println(count);\n",
    "    count++;\n",
    "}"
   ]
  },
  {
   "cell_type": "code",
   "execution_count": 9,
   "metadata": {},
   "outputs": [
    {
     "name": "stdout",
     "output_type": "stream",
     "text": [
      "1\n",
      "2\n",
      "3\n",
      "4\n",
      "5\n"
     ]
    }
   ],
   "source": [
    "for (int count = 1; count <= 5; count++) {\n",
    "    System.out.println(count);\n",
    "}"
   ]
  },
  {
   "attachments": {},
   "cell_type": "markdown",
   "metadata": {},
   "source": [
    "## Syntax\n",
    "- Three parts in for loop header: variable initialization, Boolean (conditional) expression, and increment/decrement statement"
   ]
  },
  {
   "cell_type": "code",
   "execution_count": null,
   "metadata": {},
   "outputs": [],
   "source": [
    "for (int i = 0; i < numTimesToRepeat; i++) { \n",
    "    // whatever to repeat here\n",
    "}"
   ]
  },
  {
   "attachments": {},
   "cell_type": "markdown",
   "metadata": {},
   "source": [
    "Question: Which part is which? (In reference to above)"
   ]
  },
  {
   "attachments": {},
   "cell_type": "markdown",
   "metadata": {},
   "source": [
    "- variable initialization:\n",
    "- Boolean (conditional) expression:\n",
    "- variable can be used in the code block for other various reasons besides specifying how many times the loop will repeat\n",
    "- Boolean (conditional) expression and increment/decrement statement together determine how many times the loop will repeat"
   ]
  },
  {
   "attachments": {},
   "cell_type": "markdown",
   "metadata": {},
   "source": [
    "Other syntax for increment/decrement statement:\n",
    "\n",
    "|Operator | Example | Same As |\n",
    "|----|--------|-----------|\n",
    "| ++ |  i ++  | i = i + 1 |\n",
    "| -- |  i --  | i = i - 1 |\n",
    "| += | i += y | i = i + y |\n",
    "| -= | i -= y | i = i - y |\n",
    "| *= | i *= y | i = i * y |\n",
    "| /= | i /= y | i = i / y |\n",
    "| %= | i %= y | i = i % y |"
   ]
  },
  {
   "cell_type": "code",
   "execution_count": null,
   "metadata": {},
   "outputs": [],
   "source": [
    "// play around with this \n",
    "for (int i = 0; i < 4; i++) { \n",
    "    System.out.println(i);\n",
    "}"
   ]
  },
  {
   "attachments": {},
   "cell_type": "markdown",
   "metadata": {},
   "source": [
    "## Popcorn Hacks\n",
    "- Calculate and print the sum of all even numbers from 1 to a given positive integer 'n' (user input n)"
   ]
  },
  {
   "cell_type": "code",
   "execution_count": null,
   "metadata": {},
   "outputs": [],
   "source": [
    "// CODE CODE CODE HERE\n",
    "// No need to finish code now, just share ideas"
   ]
  },
  {
   "cell_type": "code",
   "execution_count": 1,
   "metadata": {},
   "outputs": [
    {
     "name": "stdout",
     "output_type": "stream",
     "text": [
      "Enter a positive integer (n): 10\n",
      "\n",
      "Sum of even numbers from 1 to 10 is: 30\n"
     ]
    }
   ],
   "source": [
    "// SOLUTION\n",
    "import java.util.Scanner;\n",
    "\n",
    "public class evenNumSum {\n",
    "    public static void main(String[] args) {\n",
    "        // Scanner object for user input\n",
    "        Scanner scanner = new Scanner(System.in);\n",
    "\n",
    "        // user enter positive integer\n",
    "        System.out.print(\"Enter a positive integer (n): \");\n",
    "        int n = scanner.nextInt();\n",
    "        System.out.println(n);\n",
    "\n",
    "        // initialize sum to store\n",
    "        int sum = 0;\n",
    "\n",
    "        // for loop 1 to n\n",
    "        for (int i = 1; i <= n; i++) { // note the <= since start at 1\n",
    "            // check if n is even\n",
    "            if (i % 2 == 0) {\n",
    "                // if even, add to sum\n",
    "                sum += i;\n",
    "            }\n",
    "        }\n",
    "\n",
    "        // print sum\n",
    "        System.out.println(\"\\nSum of even numbers from 1 to \" + n + \" is: \" + sum);\n",
    "    }\n",
    "}\n",
    "evenNumSum.main(null)"
   ]
  },
  {
   "cell_type": "markdown",
   "metadata": {},
   "source": []
  },
  {
   "attachments": {},
   "cell_type": "markdown",
   "metadata": {},
   "source": [
    "## Java for-each Loop\n",
    "- for-each loop used to iterate through elements of arrays and collections (e.g. ArrayList)\n",
    "- AKA enhanced for loop\n",
    "### Syntax"
   ]
  },
  {
   "cell_type": "code",
   "execution_count": null,
   "metadata": {},
   "outputs": [],
   "source": [
    "for (dataType item : array) {\n",
    "    // whatever here\n",
    "}"
   ]
  },
  {
   "attachments": {},
   "cell_type": "markdown",
   "metadata": {},
   "source": [
    "- array: array/collection\n",
    "- item: variable each item of array/collection assigned is assigned to\n",
    "- dataType - array/collection data type"
   ]
  },
  {
   "cell_type": "code",
   "execution_count": 10,
   "metadata": {},
   "outputs": [
    {
     "name": "stdout",
     "output_type": "stream",
     "text": [
      "1\n",
      "7\n",
      "-9\n",
      "4\n",
      "89\n"
     ]
    }
   ],
   "source": [
    "int[] numbers = {1, 7, -9, 4, 89};\n",
    "for (int num: numbers) {\n",
    "    System.out.println(num);\n",
    "}"
   ]
  }
 ],
 "metadata": {
  "kernelspec": {
   "display_name": "Java",
   "language": "java",
   "name": "java"
  },
  "language_info": {
   "codemirror_mode": "java",
   "file_extension": ".jshell",
   "mimetype": "text/x-java-source",
   "name": "java",
   "pygments_lexer": "java",
   "version": "12.0.2+10"
  },
  "orig_nbformat": 4
 },
 "nbformat": 4,
 "nbformat_minor": 2
}
