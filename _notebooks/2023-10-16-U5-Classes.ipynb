{
 "cells": [
  {
   "attachments": {},
   "cell_type": "markdown",
   "metadata": {},
   "source": [
    "---\n",
    "comments: true\n",
    "layout: post\n",
    "title: Unit 5 Classes\n",
    "description:  Lesson on the College Board Unit 5 Creating Classes\n",
    "type: hacks\n",
    "courses: { csa: {week: 9} }\n",
    "categories: [AP Test Prep, Java]\n",
    "---"
   ]
  },
  {
   "attachments": {},
   "cell_type": "markdown",
   "metadata": {},
   "source": [
    "# Static Variables and Methods\n",
    "\n",
    "## Static Methods\n",
    "- Define behaviors of a class (belong to class, NOT object/instance of class)\n",
    "- Keyword **static** in header before method name\n",
    "- Can only: access/change static variables\n",
    "- Can't: access/change instance variables or the class' instance variables, no **this** reference\n",
    "\n",
    "### Practice\n",
    "#### Should we use a static or non-static method?"
   ]
  },
  {
   "cell_type": "code",
   "execution_count": null,
   "metadata": {
    "vscode": {
     "languageId": "java"
    }
   },
   "outputs": [],
   "source": [
    "public class Assignment{\n",
    "    // next classwork/homework ID is NEXT number of classwork/homework that will be created\n",
    "    private static int nextClassworkID = 1;\n",
    "    private static int nextHomeworkID = 1;\n",
    "    private String name;\n",
    "    private int pointValue;\n",
    "\n",
    "    // constructors and methods not shown\n",
    "}"
   ]
  },
  {
   "attachments": {},
   "cell_type": "markdown",
   "metadata": {},
   "source": [
    "Question: What is the static data and what is the instance data?\n",
    "\n",
    "Answer: static is nextClassworkID and nextHomeworkID, instance is name and pointValue"
   ]
  },
  {
   "attachments": {},
   "cell_type": "markdown",
   "metadata": {},
   "source": [
    "Question: A method getGrade is given an int score earned on the assignment and returns the percentage (as a decimal) earned by that score. Would this be implemented as a static or non-static method?\n",
    "- Think: What data does it need access to? If needs access to instance data, needs to be non-static. If only need access to static data, it can be static.\n",
    "\n",
    "Answer: non-static, since the method would need to access pointValue which is an instance variable.\n",
    "\n",
    "#### Popcorn Hacks: write getGrade method"
   ]
  },
  {
   "cell_type": "code",
   "execution_count": null,
   "metadata": {
    "vscode": {
     "languageId": "java"
    }
   },
   "outputs": [],
   "source": [
    "// solution\n",
    "public class Assignment{\n",
    "    // next classwork/homework ID is NEXT number of classwork/homework that will be created\n",
    "    private static int nextClassworkID = 1;\n",
    "    private static int nextHomeworkID = 1;\n",
    "    private String name;\n",
    "    private int pointValue;\n",
    "\n",
    "    public double getGrade(int score){\n",
    "        // note the double typecast\n",
    "        return ((double) score / pointValue);\n",
    "    }\n",
    "    // constructors and methods not shown\n",
    "\n",
    "}"
   ]
  },
  {
   "attachments": {},
   "cell_type": "markdown",
   "metadata": {},
   "source": [
    "Question: Would a method that reports the total number of assignments be static or non-static?\n",
    " \n",
    "Answer: static, since the method would only need to access static data\n",
    "\n",
    "#### Popcorn Hacks: write this method totalAssign"
   ]
  },
  {
   "cell_type": "code",
   "execution_count": null,
   "metadata": {
    "vscode": {
     "languageId": "java"
    }
   },
   "outputs": [],
   "source": [
    "// solution\n",
    "public class Assignment{\n",
    "    // next classwork/homework ID is NEXT number of classwork/homework that will be created\n",
    "    private static int nextClassworkID = 1;\n",
    "    private static int nextHomeworkID = 1;\n",
    "    private String name;\n",
    "    private int pointValue;\n",
    "\n",
    "    public int totalAssign(){\n",
    "        // subtract two because the IDs are NEXT numbers that will exist, so subtract 1 from both -> -2\n",
    "        return (nextClassworkID + nextHomeworkID - 2);\n",
    "    }\n",
    "        // constructors and methods not shown\n",
    "\n",
    "}"
   ]
  },
  {
   "attachments": {},
   "cell_type": "markdown",
   "metadata": {},
   "source": [
    "\n",
    "#### Multiple Choice Question"
   ]
  },
  {
   "cell_type": "code",
   "execution_count": null,
   "metadata": {
    "vscode": {
     "languageId": "java"
    }
   },
   "outputs": [],
   "source": [
    "public class Example{\n",
    "    private static int goal = 125;\n",
    "    private int current;\n",
    "\n",
    "    public Example (int c) {\n",
    "        // code segment 1\n",
    "    }\n",
    "    public static void resetGoal (int g) {\n",
    "        // code segment 2\n",
    "    }\n",
    "    // other methods not shown\n",
    "}"
   ]
  },
  {
   "attachments": {},
   "cell_type": "markdown",
   "metadata": {},
   "source": [
    "Which of the following statements is true?\n",
    "1. Code segment 1 can use the variable goal but cannot use the variable current.\n",
    "2. Code segment 1 cannot use the variable goal but can use the variable current.\n",
    "3. Code segment 2 can use the variable goal but cannot use the variable current.\n",
    "4. Code segment 2 cannot use the variable goal but can use the variable current.\n",
    "5. Both code segments have access to both variables\n",
    "\n",
    "Answer: 3\n",
    "\n",
    "Question: Which ones can code segment 1 (constructor) use? Anything (constructor) can call a static variable, but a static a static method can only call static variable."
   ]
  },
  {
   "attachments": {},
   "cell_type": "markdown",
   "metadata": {},
   "source": [
    "## Static Variables\n",
    "- Define static variables that belong to the class, all object of the class sharing that single static variable (associated with class, NOT objects of class)\n",
    "- Either **public** or **private**\n",
    "- **static** keyword before variable type\n",
    "- used with class name and dot operator\n",
    "\n",
    "#### Multiple Choice Question"
   ]
  },
  {
   "cell_type": "code",
   "execution_count": null,
   "metadata": {
    "vscode": {
     "languageId": "java"
    }
   },
   "outputs": [],
   "source": [
    "public class Example{\n",
    "    private static int goal = 125;\n",
    "    private int current;\n",
    "\n",
    "    public Example (int c) {\n",
    "        // code segment 1\n",
    "    }\n",
    "    public static void resetGoal (int g) {\n",
    "        // code segment 2\n",
    "    }\n",
    "    // other methods not shown\n",
    "}"
   ]
  },
  {
   "attachments": {},
   "cell_type": "markdown",
   "metadata": {},
   "source": [
    "Which of the following statements is true?\n",
    "1. Objects e1 and e2 each have a variable goal and variable current.\n",
    "2. Objects e1 and e2 share the variable goal and share the variable current.\n",
    "3. Objects e1 and e2 share the variable goal and each have a variable current.\n",
    "4. Objects e1 and e2 each have a variable goal and share the variable goal and share the variable current.\n",
    "5. The code does not complie because static variables must be public.\n",
    "\n",
    "Answer: 3"
   ]
  },
  {
   "attachments": {},
   "cell_type": "markdown",
   "metadata": {},
   "source": [
    "# Scope and Access\n",
    "- Local variables: variables declared in body of constructors and methods, only use within constructor or method, can't be declaed public or private\n",
    "- If local variable named same as instance variable, within that method the local variable will be referred to "
   ]
  },
  {
   "cell_type": "code",
   "execution_count": null,
   "metadata": {
    "vscode": {
     "languageId": "java"
    }
   },
   "outputs": [],
   "source": [
    "public class Bowler{\n",
    "    private int totalPins;\n",
    "    private int games;\n",
    "    \n",
    "    public Bowler(int pins){\n",
    "        totalPins = pins;\n",
    "        games = 3;\n",
    "    }\n",
    "\n",
    "    public void update (int game1, int game2, int game3) {\n",
    "        // local variable here is newPins\n",
    "        int newPins = game1 + game2 + game3;\n",
    "        totalPins += newPins;\n",
    "        games += 3;\n",
    "    }\n",
    "}"
   ]
  },
  {
   "attachments": {},
   "cell_type": "markdown",
   "metadata": {},
   "source": [
    "#### Multiple Choice Question"
   ]
  },
  {
   "cell_type": "code",
   "execution_count": null,
   "metadata": {
    "vscode": {
     "languageId": "java"
    }
   },
   "outputs": [],
   "source": [
    "public class Example{\n",
    "    private int current;\n",
    "    \n",
    "    public Example(int c){\n",
    "        double factor = Math.random();\n",
    "        current = (int)(c * factor);\n",
    "    }\n",
    "\n",
    "    public void rest (int num) {\n",
    "        private double factor = Math.random();\n",
    "        current += (int)(num * factor)\n",
    "    }\n",
    "    \n",
    "    // other methods not shown\n",
    "}"
   ]
  },
  {
   "attachments": {},
   "cell_type": "markdown",
   "metadata": {},
   "source": [
    "Which of the following is the reason this code does not compile?\n",
    "1. The reset method cannot declare a variable named factor since a vriable named factor is declared in the constructor.\n",
    "2. The reset method cannot declare factor as private since factor is a local variable not an instance variable.\n",
    "3. The constructor cannot declare a variable named factor since a variable named factor is declared in the reset method. \n",
    "4. The constructor cannot access the isntance variable current since current is private.\n",
    "5. There is no syntax error in this code and it would compile.\n",
    "\n",
    "Answer: B"
   ]
  }
 ],
 "metadata": {
  "language_info": {
   "name": "python"
  },
  "orig_nbformat": 4
 },
 "nbformat": 4,
 "nbformat_minor": 2
}
