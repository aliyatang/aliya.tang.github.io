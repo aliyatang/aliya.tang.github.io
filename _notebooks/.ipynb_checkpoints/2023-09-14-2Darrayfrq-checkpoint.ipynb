{
 "cells": [
  {
   "cell_type": "markdown",
   "metadata": {},
   "source": [
    "---\n",
    "title: 2D Array FRQ\n",
    "description: Free Response Question Hacks\n",
    "layout: default\n",
    "courses: { csse: {week: 5}, csp: {week: 3, categories: [1.A, 3.B]}, csa: {week: 2} }\n",
    "type: ccc\n",
    "week: 4\n",
    "---"
   ]
  },
  {
   "cell_type": "code",
   "execution_count": 3,
   "metadata": {
    "vscode": {
     "languageId": "javascript"
    }
   },
   "outputs": [
    {
     "ename": "CompilationException",
     "evalue": "",
     "output_type": "error",
     "traceback": [
      "\u001b[1m\u001b[30m|   \u001b[1m\u001b[30m            count++\u001b[0m\u001b[1m\u001b[30m\u001b[41m\u001b[0m\u001b[1m\u001b[30m\u001b[0m",
      "\u001b[1m\u001b[31m';' expected\u001b[0m",
      ""
     ]
    }
   ],
   "source": [
    "public int countIncreasingCols()\n",
    "{\n",
    "    int count = 0;\n",
    "    for (int col = 0; col < grid[0].length; col++) {\n",
    "        boolean ordered = true;\n",
    "        for (int col = 0; col < grind[0].length; row++) {\n",
    "            if (gird[row][col] < grid[row - 1][col]) {\n",
    "                ordered = false;\n",
    "            } \n",
    "        }\n",
    "        if (ordered) {\n",
    "            count++\n",
    "        }\n",
    "    }\n",
    "    return count;\n",
    "}"
   ]
  },
  {
   "cell_type": "code",
   "execution_count": 4,
   "metadata": {
    "vscode": {
     "languageId": "javascript"
    }
   },
   "outputs": [],
   "source": [
    "public int countIncreasingCols() {\n",
    "    int count = 0;\n",
    "    \n",
    "    // Assuming grid is not null and has at least one element, you can use grid[0].length\n",
    "    int numRows = grid.length;\n",
    "    int numCols = grid[0].length;\n",
    "\n",
    "    for (int col = 0; col < numCols; col++) {\n",
    "        boolean ordered = true;\n",
    "\n",
    "        for (int row = 1; row < numRows; row++) {  // Start from the second row\n",
    "            if (grid[row][col] < grid[row - 1][col]) {\n",
    "                ordered = false;\n",
    "                break;  // No need to continue checking this column\n",
    "            }\n",
    "        }\n",
    "\n",
    "        if (ordered) {\n",
    "            count++;\n",
    "        }\n",
    "    }\n",
    "\n",
    "    return count;\n",
    "}"
   ]
  },
  {
   "cell_type": "code",
   "execution_count": null,
   "metadata": {},
   "outputs": [],
   "source": []
  }
 ],
 "metadata": {
  "kernelspec": {
   "display_name": "Java",
   "language": "java",
   "name": "java"
  },
  "language_info": {
   "codemirror_mode": "java",
   "file_extension": ".jshell",
   "mimetype": "text/x-java-source",
   "name": "Java",
   "pygments_lexer": "java",
   "version": "12.0.2+10"
  }
 },
 "nbformat": 4,
 "nbformat_minor": 2
}
